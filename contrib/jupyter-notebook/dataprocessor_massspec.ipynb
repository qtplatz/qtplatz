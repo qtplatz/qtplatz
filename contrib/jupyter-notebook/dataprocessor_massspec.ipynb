{
 "cells": [
  {
   "cell_type": "code",
   "execution_count": null,
   "metadata": {},
   "outputs": [],
   "source": [
    "from qtplatz import adProcessor, adControls\n",
    "import pprint\n",
    "import numpy as np\n",
    "import xml.etree.ElementTree as etree\n",
    "from datetime import datetime"
   ]
  },
  {
   "cell_type": "code",
   "execution_count": null,
   "metadata": {},
   "outputs": [],
   "source": [
    "file = adProcessor.processor()"
   ]
  },
  {
   "cell_type": "code",
   "execution_count": null,
   "metadata": {},
   "outputs": [],
   "source": [
    "filename = '/data/data/z440/2020-02-07/TFANa_0001.adfs'\n",
    "#filename = '/Users/toshi/data/z440/2020-02-27/HCOONa_0002.adfs'"
   ]
  },
  {
   "cell_type": "code",
   "execution_count": null,
   "metadata": {},
   "outputs": [],
   "source": [
    "if ( file.open( filename )):\n",
    "    print ( '{} Open success'.format( file.filename() ));\n",
    "else:\n",
    "    print ( '{} File open failed'.format( file.filename() ));"
   ]
  },
  {
   "cell_type": "code",
   "execution_count": null,
   "metadata": {},
   "outputs": [],
   "source": [
    "folder = file.findFolder('/Processed/Spectra')\n",
    "for s1 in folder.folders():\n",
    "    print ( 'folder: ', [ s1.name(), s1.rowid() ] )"
   ]
  },
  {
   "cell_type": "code",
   "execution_count": null,
   "metadata": {},
   "outputs": [],
   "source": [
    "def print_ms( ms, indent ):\n",
    "    prop = etree.fromstring( ms.property().xml() )\n",
    "    #print ( etree.tostring( prop, encoding='unicode') )\n",
    "    np.set_printoptions(precision=5)\n",
    "    lines = 0;\n",
    "    for value in ms:\n",
    "        lines += 1;\n",
    "        print( lines, np.array(value) )  # time, mass, intensity\n",
    "        if ( lines >= 10 ):\n",
    "            break;\n",
    "    prop = ms.property();\n",
    "    pprint.pprint( prop.samplingInfo(), indent=indent );\n",
    "    pprint.pprint( prop.massRange(), indent=indent );\n",
    "    dt = datetime.fromtimestamp( prop.timeSinceEpoch() // 1000000000 );\n",
    "    print( '\\tepoch_time: {}\\t {}'.format( dt.strftime('%Y-%m-%d %H:%M:%S'), prop.timeSinceInjection()), end = '' );\n",
    "    print ( \"\\tnumAverage=\", prop.numAverage() );\n",
    "    if ( ms.isCentroid() ):\n",
    "        annots = ms.annotations();\n",
    "        print( \"size of annotations = \", annots.__len__());\n",
    "        for a in annots:\n",
    "            print ( [a.text(), a.index() ] );"
   ]
  },
  {
   "cell_type": "code",
   "execution_count": null,
   "metadata": {},
   "outputs": [],
   "source": [
    "def print_file( f, indent ):\n",
    "    pprint.pprint( [ f.attributes()['dataType'] ], indent=indent )\n",
    "    if ( f.attributes()['dataType'] == \"MassSpectrum\"):\n",
    "        print_ms( f.body(), indent )\n",
    "    for a in f.attachments():\n",
    "        print_file( a, indent + 4 )"
   ]
  },
  {
   "cell_type": "code",
   "execution_count": null,
   "metadata": {
    "scrolled": false
   },
   "outputs": [],
   "source": [
    "for s1 in folder.folders():\n",
    "    print ( [ s1.name(), s1.id(), s1.rowid() ] )\n",
    "    for f in s1.files():\n",
    "        print_file( f, 4 )"
   ]
  },
  {
   "cell_type": "code",
   "execution_count": null,
   "metadata": {},
   "outputs": [],
   "source": []
  }
 ],
 "metadata": {
  "kernelspec": {
   "display_name": "Python 3",
   "language": "python",
   "name": "python3"
  },
  "language_info": {
   "codemirror_mode": {
    "name": "ipython",
    "version": 3
   },
   "file_extension": ".py",
   "mimetype": "text/x-python",
   "name": "python",
   "nbconvert_exporter": "python",
   "pygments_lexer": "ipython3",
   "version": "3.7.3"
  }
 },
 "nbformat": 4,
 "nbformat_minor": 4
}
