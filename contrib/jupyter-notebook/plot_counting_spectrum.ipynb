{
 "cells": [
  {
   "cell_type": "code",
   "execution_count": null,
   "metadata": {},
   "outputs": [],
   "source": [
    "import os\n",
    "if os.name == 'nt':\n",
    "    os.add_dll_directory( 'c:/QtPlatz/bin' )\n",
    "import sys\n",
    "from PyQt5.QtWidgets import QMainWindow, QApplication, QWidget, QAction, QFileDialog\n",
    "import sqlite3\n",
    "import plotly.graph_objects as go"
   ]
  },
  {
   "cell_type": "code",
   "execution_count": null,
   "metadata": {},
   "outputs": [],
   "source": [
    "times = []\n",
    "counts = []\n",
    "def plot_spectrum( file ):\n",
    "    print (file);\n",
    "    conn = sqlite3.connect( file )\n",
    "    c = conn.cursor()\n",
    "    c.execute(\"SELECT *,Counts*100.0/(SELECT COUNT(*) FROM trigger) AS Count_Rate FROM (SELECT peak_time*1e6 as TOF,count(*) AS Counts FROM trigger,peak where id=idTrigger GROUP by peak_time)\")\n",
    "    result_set = c.fetchall()\n",
    "    for row in result_set:\n",
    "        times.append( row[ 0 ] )\n",
    "        counts.append( row[ 2 ] )"
   ]
  },
  {
   "cell_type": "code",
   "execution_count": null,
   "metadata": {},
   "outputs": [],
   "source": [
    "if __name__ == '__main__':\n",
    "    app = QApplication(sys.argv)\n",
    "    filenames, f = QFileDialog.getOpenFileNames(None\n",
    "                                                , \"Open file for export in python\"\n",
    "                                                , \"~/data\"\n",
    "                                                , \"QtPlatz (*.adfs);;All Files (*)\" )\n",
    "\n",
    "    for file in filenames:\n",
    "        plot_spectrum ( file );\n",
    "\n",
    "        fig = go.Figure(data=go.Scatter(x=times, y=counts))\n",
    "        fig.show() #write_html('figure.html', auto_open=True)"
   ]
  },
  {
   "cell_type": "code",
   "execution_count": null,
   "metadata": {},
   "outputs": [],
   "source": []
  }
 ],
 "metadata": {
  "kernelspec": {
   "display_name": "Python 3 (ipykernel)",
   "language": "python",
   "name": "python3"
  },
  "language_info": {
   "codemirror_mode": {
    "name": "ipython",
    "version": 3
   },
   "file_extension": ".py",
   "mimetype": "text/x-python",
   "name": "python",
   "nbconvert_exporter": "python",
   "pygments_lexer": "ipython3",
   "version": "3.11.7"
  }
 },
 "nbformat": 4,
 "nbformat_minor": 4
}
