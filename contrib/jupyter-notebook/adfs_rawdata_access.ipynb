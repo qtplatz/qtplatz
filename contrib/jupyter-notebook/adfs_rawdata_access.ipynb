{
 "cells": [
  {
   "cell_type": "code",
   "execution_count": null,
   "metadata": {},
   "outputs": [],
   "source": [
    "from qtplatz import adProcessor, adControls\n",
    "from datetime import datetime"
   ]
  },
  {
   "cell_type": "code",
   "execution_count": null,
   "metadata": {},
   "outputs": [],
   "source": [
    "file = adProcessor.processor()"
   ]
  },
  {
   "cell_type": "code",
   "execution_count": null,
   "metadata": {},
   "outputs": [],
   "source": [
    "filename = '/data/data/z440/2020-02-07/TFANa_0001.adfs'"
   ]
  },
  {
   "cell_type": "code",
   "execution_count": null,
   "metadata": {},
   "outputs": [],
   "source": [
    "if ( file.open( filename )):\n",
    "    print ( '{} Open success'.format( filename ))"
   ]
  },
  {
   "cell_type": "code",
   "execution_count": null,
   "metadata": {},
   "outputs": [],
   "source": [
    "    readers = file.dataReaders();\n",
    "    for r in readers:\n",
    "        print ( '\\treader {}, {}, it has {} spectra.'.format( r.objuuid(), r.objtext(), r.size() ))"
   ]
  },
  {
   "cell_type": "code",
   "execution_count": null,
   "metadata": {},
   "outputs": [],
   "source": [
    "    reader = file.dataReader( 'da16704b-2d18-5c91-82c7-42a0a8b94d2b') ## UUID should get one from above results\n",
    "    if reader:\n",
    "        while True:\n",
    "            sp = reader.readSpectrum();\n",
    "            if ( sp ):\n",
    "                dt = datetime.fromtimestamp(reader.epoch_time() // 1000000000 ) ## // is floor div operator\n",
    "                print( '\\tepoch_time: {}'.format( dt.strftime('%Y-%m-%d %H:%M:%S') + '.' + str( reader.epoch_time() % 1000000000 ).zfill(9) ), end = '' )\n",
    "                print ( (\"\\t%d/%d\\t%d\\t%.3f\" ) % (0, sp.numProtocols(), sp.size(), reader.time_since_inject() ) );\n",
    "            if reader.next() == False:\n",
    "                break"
   ]
  },
  {
   "cell_type": "code",
   "execution_count": null,
   "metadata": {},
   "outputs": [],
   "source": []
  }
 ],
 "metadata": {
  "kernelspec": {
   "display_name": "Python 3",
   "language": "python",
   "name": "python3"
  },
  "language_info": {
   "codemirror_mode": {
    "name": "ipython",
    "version": 3
   },
   "file_extension": ".py",
   "mimetype": "text/x-python",
   "name": "python",
   "nbconvert_exporter": "python",
   "pygments_lexer": "ipython3",
   "version": "3.7.3"
  }
 },
 "nbformat": 4,
 "nbformat_minor": 4
}
