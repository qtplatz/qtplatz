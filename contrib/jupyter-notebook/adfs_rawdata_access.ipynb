{
 "cells": [
  {
   "cell_type": "code",
   "execution_count": null,
   "metadata": {},
   "outputs": [],
   "source": [
    "import os\n",
    "if os.name == 'nt':\n",
    "    os.add_dll_directory( 'c:/QtPlatz/bin' )\n",
    "from qtplatz import py_adprocessor, py_adcontrols\n",
    "from datetime import datetime"
   ]
  },
  {
   "cell_type": "code",
   "execution_count": null,
   "metadata": {},
   "outputs": [],
   "source": [
    "file = py_adprocessor.processor()"
   ]
  },
  {
   "cell_type": "code",
   "execution_count": null,
   "metadata": {},
   "outputs": [],
   "source": [
    "filename = '/data/data/z440/2020-02-07/TFANa_0001.adfs'"
   ]
  },
  {
   "cell_type": "code",
   "execution_count": null,
   "metadata": {},
   "outputs": [],
   "source": [
    "if ( file.open( filename )):\n",
    "    print ( '{} Open success'.format( filename ) )"
   ]
  },
  {
   "cell_type": "code",
   "execution_count": null,
   "metadata": {},
   "outputs": [],
   "source": [
    "    readers = file.dataReaderTuples();"
   ]
  },
  {
   "cell_type": "code",
   "execution_count": null,
   "metadata": {},
   "outputs": [],
   "source": [
    "    avgGuid = [t for t in readers if t[0] == '1.u5303a.ms-cheminfo.com' ][0];\n",
    "    print (avgGuid)"
   ]
  },
  {
   "cell_type": "code",
   "execution_count": null,
   "metadata": {},
   "outputs": [],
   "source": [
    "    reader = file.dataReader( avgGuid[2] ) ## UUID should get one from above results\n",
    "    if reader:\n",
    "        while True:\n",
    "            sp = reader.readSpectrum();\n",
    "            if ( sp ):\n",
    "                dt = datetime.fromtimestamp(reader.epoch_time() // 1000000000 ) ## // is floor div operator\n",
    "                print ( '\\tepoch_time: {}'.format( dt.strftime('%Y-%m-%d %H:%M:%S') + '.' + str( reader.epoch_time() % 1000000000 ).zfill(9) ), end = '' )\n",
    "                print ( (\"\\t%d/%d\\t%d\\t%.3f\" ) % (0, sp.numProtocols(), sp.__len__(), reader.time_since_inject() ) );\n",
    "                outlines = 3;\n",
    "                for d in sp:\n",
    "                    print ( \"\\t\\t\", d )\n",
    "                    outlines -= 1;\n",
    "                    if ( outlines == 0 ):\n",
    "                        break;\n",
    "            if reader.next() == False:\n",
    "                break"
   ]
  },
  {
   "cell_type": "code",
   "execution_count": null,
   "metadata": {},
   "outputs": [],
   "source": []
  }
 ],
 "metadata": {
  "kernelspec": {
   "display_name": "Python 3 (ipykernel)",
   "language": "python",
   "name": "python3"
  },
  "language_info": {
   "codemirror_mode": {
    "name": "ipython",
    "version": 3
   },
   "file_extension": ".py",
   "mimetype": "text/x-python",
   "name": "python",
   "nbconvert_exporter": "python",
   "pygments_lexer": "ipython3",
   "version": "3.11.7"
  }
 },
 "nbformat": 4,
 "nbformat_minor": 4
}
