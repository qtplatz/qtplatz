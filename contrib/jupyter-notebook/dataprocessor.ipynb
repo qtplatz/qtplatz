{
 "cells": [
  {
   "cell_type": "code",
   "execution_count": null,
   "metadata": {},
   "outputs": [],
   "source": [
    "import sys\n",
    "from PyQt5.QtWidgets import QApplication, QWidget, QFileDialog\n",
    "from qtplatz import adProcessor, adControls\n",
    "import pprint\n",
    "import plotly.graph_objects as go\n",
    "import plotly.io as pio"
   ]
  },
  {
   "cell_type": "code",
   "execution_count": null,
   "metadata": {},
   "outputs": [],
   "source": [
    "def mass_spectrum( ms, indent ):\n",
    "    print('mass spectrum length=', ms.__len__(), \"isCentroid=\", ms.isCentroid() )\n",
    "    masses = []\n",
    "    intens = []\n",
    "    if ( ms.isCentroid() ):\n",
    "        for item in ms:\n",
    "            masses.append( item[1] )\n",
    "            intens.append( 0 )\n",
    "            masses.append( item[1] )\n",
    "            intens.append( item[2] )\n",
    "            masses.append( item[1] )\n",
    "            intens.append( 0 )\n",
    "    else:\n",
    "        for item in ms:\n",
    "            masses.append( item[1] )\n",
    "            intens.append( item[2] )\n",
    "\n",
    "    fig = go.Figure();\n",
    "    fig.add_trace(go.Scattergl(x=masses, y=intens))\n",
    "    fig.show()\n"
   ]
  },
  {
   "cell_type": "code",
   "execution_count": null,
   "metadata": {},
   "outputs": [],
   "source": [
    "def peak_result( body, indent ):\n",
    "    for bs in body.baselines():\n",
    "        pprint.pprint( bs, indent=indent, compact=True )\n",
    "    for pk in body.peaks():\n",
    "        pprint.pprint( pk, indent=indent, compact=True )"
   ]
  },
  {
   "cell_type": "code",
   "execution_count": null,
   "metadata": {},
   "outputs": [],
   "source": [
    "def print_file( f, indent ):\n",
    "    if ( f.attributes()['dataType'] == \"MassSpectrum\" ):\n",
    "        mass_spectrum( f.body(), indent )\n",
    "    for a in f.attachments():\n",
    "        print_file( a, indent + 4 )"
   ]
  },
  {
   "cell_type": "code",
   "execution_count": null,
   "metadata": {
    "scrolled": true
   },
   "outputs": [],
   "source": [
    "if __name__ == '__main__':\n",
    "    file = adProcessor.processor()\n",
    "    app = QApplication(sys.argv)\n",
    "    filename, f = QFileDialog.getOpenFileName(None\n",
    "                                                , \"Open file for export in python\"\n",
    "                                                , '/data/data/z440/2020-02-07/TFANa_0001.adfs'\n",
    "                                                , \"QtPlatz (*.adfs);;All Files (*)\" )\n",
    "    print (filename)\n",
    "\n",
    "    if ( file.open( filename )):\n",
    "        print ( '{} Open success'.format( file.filename() ))\n",
    "        folder = file.findFolder('/Processed')\n",
    "        for s1 in folder.folders():\n",
    "            print ( 'folder: ', [ s1.name(), s1.rowid() ] )\n",
    "            for f in s1.files():\n",
    "                print_file( f, 4 )\n"
   ]
  },
  {
   "cell_type": "code",
   "execution_count": null,
   "metadata": {},
   "outputs": [],
   "source": []
  },
  {
   "cell_type": "code",
   "execution_count": null,
   "metadata": {},
   "outputs": [],
   "source": []
  }
 ],
 "metadata": {
  "kernelspec": {
   "display_name": "Python 3",
   "language": "python",
   "name": "python3"
  },
  "language_info": {
   "codemirror_mode": {
    "name": "ipython",
    "version": 3
   },
   "file_extension": ".py",
   "mimetype": "text/x-python",
   "name": "python",
   "nbconvert_exporter": "python",
   "pygments_lexer": "ipython3",
   "version": "3.7.3"
  }
 },
 "nbformat": 4,
 "nbformat_minor": 4
}
