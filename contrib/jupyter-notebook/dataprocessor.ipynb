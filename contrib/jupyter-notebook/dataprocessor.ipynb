{
 "cells": [
  {
   "cell_type": "code",
   "execution_count": 1,
   "metadata": {},
   "outputs": [
    {
     "name": "stderr",
     "output_type": "stream",
     "text": [
      "objc[98466]: Class QMacAutoReleasePoolTracker is implemented in both /opt/homebrew/Cellar/qt@5/5.15.10/lib/QtCore.framework/Versions/5/QtCore (0x105379310) and /opt/Qt5/5.15.2/lib/QtCore.framework/Versions/5/QtCore (0x109f89230). One of the two will be used. Which one is undefined.\n",
      "objc[98466]: Class QT_ROOT_LEVEL_POOL__THESE_OBJECTS_WILL_BE_RELEASED_WHEN_QAPP_GOES_OUT_OF_SCOPE is implemented in both /opt/homebrew/Cellar/qt@5/5.15.10/lib/QtCore.framework/Versions/5/QtCore (0x105379388) and /opt/Qt5/5.15.2/lib/QtCore.framework/Versions/5/QtCore (0x109f892a8). One of the two will be used. Which one is undefined.\n",
      "objc[98466]: Class KeyValueObserver is implemented in both /opt/homebrew/Cellar/qt@5/5.15.10/lib/QtCore.framework/Versions/5/QtCore (0x1053793b0) and /opt/Qt5/5.15.2/lib/QtCore.framework/Versions/5/QtCore (0x109f892d0). One of the two will be used. Which one is undefined.\n",
      "objc[98466]: Class RunLoopModeTracker is implemented in both /opt/homebrew/Cellar/qt@5/5.15.10/lib/QtCore.framework/Versions/5/QtCore (0x105379400) and /opt/Qt5/5.15.2/lib/QtCore.framework/Versions/5/QtCore (0x109f89320). One of the two will be used. Which one is undefined.\n"
     ]
    },
    {
     "ename": "ModuleNotFoundError",
     "evalue": "No module named 'plotly'",
     "output_type": "error",
     "traceback": [
      "\u001b[0;31m---------------------------------------------------------------------------\u001b[0m",
      "\u001b[0;31mModuleNotFoundError\u001b[0m                       Traceback (most recent call last)",
      "Cell \u001b[0;32mIn[1], line 5\u001b[0m\n\u001b[1;32m      3\u001b[0m \u001b[38;5;28;01mfrom\u001b[39;00m \u001b[38;5;21;01mqtplatz\u001b[39;00m \u001b[38;5;28;01mimport\u001b[39;00m py_adprocessor, py_adcontrols\n\u001b[1;32m      4\u001b[0m \u001b[38;5;28;01mimport\u001b[39;00m \u001b[38;5;21;01mpprint\u001b[39;00m\n\u001b[0;32m----> 5\u001b[0m \u001b[38;5;28;01mimport\u001b[39;00m \u001b[38;5;21;01mplotly\u001b[39;00m\u001b[38;5;21;01m.\u001b[39;00m\u001b[38;5;21;01mgraph_objects\u001b[39;00m \u001b[38;5;28;01mas\u001b[39;00m \u001b[38;5;21;01mgo\u001b[39;00m\n\u001b[1;32m      6\u001b[0m \u001b[38;5;28;01mimport\u001b[39;00m \u001b[38;5;21;01mplotly\u001b[39;00m\u001b[38;5;21;01m.\u001b[39;00m\u001b[38;5;21;01mio\u001b[39;00m \u001b[38;5;28;01mas\u001b[39;00m \u001b[38;5;21;01mpio\u001b[39;00m\n",
      "\u001b[0;31mModuleNotFoundError\u001b[0m: No module named 'plotly'"
     ]
    }
   ],
   "source": [
    "import os\n",
    "if os.name == 'nt':\n",
    "    os.add_dll_directory( 'c:/QtPlatz/bin' )\n",
    "import sys\n",
    "from PyQt5.QtWidgets import QApplication, QWidget, QFileDialog\n",
    "from qtplatz import py_adprocessor, py_adcontrols\n",
    "import pprint\n",
    "import plotly.graph_objects as go\n",
    "import plotly.io as pio"
   ]
  },
  {
   "cell_type": "code",
   "execution_count": null,
   "metadata": {},
   "outputs": [],
   "source": [
    "def mass_spectrum( ms, indent ):\n",
    "    print('mass spectrum length=', ms.__len__(), \"isCentroid=\", ms.isCentroid() )\n",
    "    masses = []\n",
    "    intens = []\n",
    "    if ( ms.isCentroid() ):\n",
    "        for item in ms:\n",
    "            masses.append( item[1] )\n",
    "            intens.append( 0 )\n",
    "            masses.append( item[1] )\n",
    "            intens.append( item[2] )\n",
    "            masses.append( item[1] )\n",
    "            intens.append( 0 )\n",
    "    else:\n",
    "        for item in ms:\n",
    "            masses.append( item[1] )\n",
    "            intens.append( item[2] )\n",
    "\n",
    "    fig = go.Figure();\n",
    "    fig.add_trace(go.Scattergl(x=masses, y=intens))\n",
    "    fig.show()\n"
   ]
  },
  {
   "cell_type": "code",
   "execution_count": null,
   "metadata": {},
   "outputs": [],
   "source": [
    "def print_chromatogram( chro, indent ):\n",
    "    print('chromatogram length=', chro.__len__() )\n",
    "    times = []\n",
    "    intens = []\n",
    "    for item in chro:\n",
    "        times.append( item[0] )\n",
    "        intens.append( item[1] )\n",
    "    fig = go.Figure()\n",
    "    fig.add_trace( go.Scattergl(x=times, y=intens) )\n",
    "    fig.show()"
   ]
  },
  {
   "cell_type": "code",
   "execution_count": null,
   "metadata": {},
   "outputs": [],
   "source": [
    "def peak_result( body, indent ):\n",
    "    for bs in body.baselines():\n",
    "        pprint.pprint( bs, indent=indent, compact=True )\n",
    "    for pk in body.peaks():\n",
    "        pprint.pprint( pk, indent=indent, compact=True )"
   ]
  },
  {
   "cell_type": "code",
   "execution_count": null,
   "metadata": {},
   "outputs": [],
   "source": [
    "def print_file( f, indent ):\n",
    "    if ( f.attributes()['dataType'] == \"MassSpectrum\" ):\n",
    "        mass_spectrum( f.body(), indent )\n",
    "    if ( f.attributes()['dataType'] == \"Chromatogram\"):\n",
    "        print_chromatogram( f.body(), indent )\n",
    "    for a in f.attachments():\n",
    "        print_file( a, indent + 4 )"
   ]
  },
  {
   "cell_type": "code",
   "execution_count": null,
   "metadata": {
    "scrolled": true
   },
   "outputs": [],
   "source": [
    "if __name__ == '__main__':\n",
    "    file = py_adprocessor.processor()\n",
    "    app = QApplication(sys.argv)\n",
    "    filename, f = QFileDialog.getOpenFileName(None\n",
    "                                                , \"Open file for export in python\"\n",
    "                                                , '/data/data/z440/2020-02-07/TFANa_0001.adfs'\n",
    "                                                , \"QtPlatz (*.adfs);;All Files (*)\" )\n",
    "    print (filename)\n",
    "\n",
    "    if ( file.open( filename )):\n",
    "        print ( '{} Open success'.format( file.filename() ))\n",
    "        folder = file.findFolder('/Processed')\n",
    "        for s1 in folder.folders():\n",
    "            print ( 'folder: ', [ s1.name(), s1.rowid() ] )\n",
    "            for f in s1.files():\n",
    "                print_file( f, 4 )\n"
   ]
  }
 ],
 "metadata": {
  "kernelspec": {
   "display_name": "Python 3 (ipykernel)",
   "language": "python",
   "name": "python3"
  },
  "language_info": {
   "codemirror_mode": {
    "name": "ipython",
    "version": 3
   },
   "file_extension": ".py",
   "mimetype": "text/x-python",
   "name": "python",
   "nbconvert_exporter": "python",
   "pygments_lexer": "ipython3",
   "version": "3.11.7"
  }
 },
 "nbformat": 4,
 "nbformat_minor": 4
}
