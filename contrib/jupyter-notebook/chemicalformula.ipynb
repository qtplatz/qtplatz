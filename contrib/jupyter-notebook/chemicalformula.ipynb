{
 "cells": [
  {
   "cell_type": "code",
   "execution_count": 1,
   "metadata": {},
   "outputs": [],
   "source": [
    "import os\n",
    "if os.name == 'nt':\n",
    "    os.add_dll_directory( 'c:/QtPlatz/bin' )\n",
    "from qtplatz import py_adcontrols"
   ]
  },
  {
   "cell_type": "code",
   "execution_count": 2,
   "metadata": {},
   "outputs": [],
   "source": [
    "cf = py_adcontrols.ChemicalFormula('CH3COO [Na]+')"
   ]
  },
  {
   "cell_type": "code",
   "execution_count": 3,
   "metadata": {},
   "outputs": [
    {
     "name": "stdout",
     "output_type": "stream",
     "text": [
      "82.00252503632056\n"
     ]
    }
   ],
   "source": [
    "print (cf.monoIsotopicMass())"
   ]
  },
  {
   "cell_type": "code",
   "execution_count": 4,
   "metadata": {},
   "outputs": [
    {
     "name": "stdout",
     "output_type": "stream",
     "text": [
      "[C2H3O2Na]+\n"
     ]
    }
   ],
   "source": [
    "print (cf.standardFormula())"
   ]
  },
  {
   "cell_type": "code",
   "execution_count": 5,
   "metadata": {},
   "outputs": [
    {
     "name": "stdout",
     "output_type": "stream",
     "text": [
      "[CH<sub>3</sub>COONa]<sup>+</sup> 1\n"
     ]
    }
   ],
   "source": [
    "print (cf.formatFormula(True), cf.charge())"
   ]
  },
  {
   "cell_type": "code",
   "execution_count": 6,
   "metadata": {},
   "outputs": [
    {
     "name": "stdout",
     "output_type": "stream",
     "text": [
      "('C', 2)\n",
      "('H', 3)\n",
      "('O', 2)\n",
      "('Na', 1)\n"
     ]
    }
   ],
   "source": [
    "for t in cf.composition():\n",
    "    print(t)"
   ]
  },
  {
   "cell_type": "code",
   "execution_count": 7,
   "metadata": {},
   "outputs": [
    {
     "name": "stdout",
     "output_type": "stream",
     "text": [
      "{'symbol': 'C', 'name': 'Carbon', 'atomicNumber': 6, 'valence': 4, 'count': 2, 'mass': 12.0}\n",
      "{'symbol': 'H', 'name': 'Hydrogen', 'atomicNumber': 1, 'valence': 1, 'count': 3, 'mass': 1.00782503207}\n",
      "{'symbol': 'O', 'name': 'Oxygen', 'atomicNumber': 8, 'valence': 2, 'count': 2, 'mass': 15.99491461956}\n",
      "{'symbol': 'Na', 'name': 'Sodium', 'atomicNumber': 11, 'valence': 1, 'count': 1, 'mass': 22.9897692809}\n"
     ]
    }
   ],
   "source": [
    "for t in cf.composition_dict():\n",
    "    print(t)"
   ]
  },
  {
   "cell_type": "code",
   "execution_count": null,
   "metadata": {},
   "outputs": [],
   "source": []
  }
 ],
 "metadata": {
  "kernelspec": {
   "display_name": "Python 3 (ipykernel)",
   "language": "python",
   "name": "python3"
  },
  "language_info": {
   "codemirror_mode": {
    "name": "ipython",
    "version": 3
   },
   "file_extension": ".py",
   "mimetype": "text/x-python",
   "name": "python",
   "nbconvert_exporter": "python",
   "pygments_lexer": "ipython3",
   "version": "3.11.7"
  }
 },
 "nbformat": 4,
 "nbformat_minor": 4
}
