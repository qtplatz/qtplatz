{
 "cells": [
  {
   "cell_type": "code",
   "execution_count": null,
   "metadata": {},
   "outputs": [],
   "source": [
    "import sys\n",
    "from PyQt5.QtWidgets import QApplication, QWidget, QFileDialog\n",
    "from qtplatz import adProcessor, adControls\n",
    "import pprint"
   ]
  },
  {
   "cell_type": "code",
   "execution_count": null,
   "metadata": {},
   "outputs": [],
   "source": [
    "def mscalibrate_result( body, indent ):\n",
    "    print( body.xml() )"
   ]
  },
  {
   "cell_type": "code",
   "execution_count": null,
   "metadata": {},
   "outputs": [],
   "source": [
    "def print_file( f, indent ):\n",
    "    #pprint.pprint( [ f.attributes(), f.name(), f.body() ], indent=indent )\n",
    "    if ( f.attributes()['dataType'] == \"MSCalibrateResult\"):\n",
    "        mscalibrate_result( f.body(), indent )\n",
    "    for a in f.attachments():\n",
    "        print_file( a, indent + 4 )"
   ]
  },
  {
   "cell_type": "code",
   "execution_count": null,
   "metadata": {
    "scrolled": false
   },
   "outputs": [],
   "source": []
  },
  {
   "cell_type": "code",
   "execution_count": null,
   "metadata": {},
   "outputs": [],
   "source": [
    "if __name__ == '__main__':\n",
    "    app = QApplication(sys.argv)\n",
    "    filenames, f = QFileDialog.getOpenFileNames(None\n",
    "                                                , \"Open file for export in python\"\n",
    "                                                , '/data/data/z440/2020-02-07/TFANa_0001.adfs'\n",
    "                                                , \"QtPlatz (*.adfs);;All Files (*)\" )\n",
    "    file = adProcessor.processor()\n",
    "    #filename = '/data/data/z440/2020-02-07/TFANa_0001.adfs'\n",
    "    if ( file.open( filename )):\n",
    "        for s1 in folder.folders():\n",
    "    print ( [ s1.name(), s1.id(), s1.rowid() ] )\n",
    "    for f in s1.files():\n",
    "        print_file( f, 4 )\n",
    "        print ( '{} Open success'.format( file.filename() ))\n",
    "        folder = file.findFolder('/Processed')\n",
    "        for s1 in folder.folders():\n",
    "            print ( 'folder: ', [ s1.name(), s1.rowid() ] )"
   ]
  }
 ],
 "metadata": {
  "kernelspec": {
   "display_name": "Python 3",
   "language": "python",
   "name": "python3"
  },
  "language_info": {
   "codemirror_mode": {
    "name": "ipython",
    "version": 3
   },
   "file_extension": ".py",
   "mimetype": "text/x-python",
   "name": "python",
   "nbconvert_exporter": "python",
   "pygments_lexer": "ipython3",
   "version": "3.7.3"
  }
 },
 "nbformat": 4,
 "nbformat_minor": 4
}
