{
 "cells": [
  {
   "cell_type": "code",
   "execution_count": 1,
   "metadata": {},
   "outputs": [],
   "source": [
    "import os\n",
    "if os.name == 'nt':\n",
    "    os.add_dll_directory( 'c:/QtPlatz/bin' )\n",
    "\n",
    "from qtplatz import py_adcontrols\n",
    "import pprint"
   ]
  },
  {
   "cell_type": "code",
   "execution_count": 2,
   "metadata": {},
   "outputs": [],
   "source": [
    "isoCluster = py_adcontrols.IsotopeCluster('C85H121N21O25S [H]+')"
   ]
  },
  {
   "cell_type": "code",
   "execution_count": 3,
   "metadata": {},
   "outputs": [],
   "source": [
    "isoCluster.setResolvingPower( 10000 )"
   ]
  },
  {
   "cell_type": "code",
   "execution_count": 4,
   "metadata": {},
   "outputs": [
    {
     "name": "stdout",
     "output_type": "stream",
     "text": [
      "C85H121N21O25S [H]+ charge= 1 R.P.= 10000.0\n"
     ]
    }
   ],
   "source": [
    "print( isoCluster.formula(), \"charge=\", isoCluster.charge(), \"R.P.=\", isoCluster.resolvingPower() )"
   ]
  },
  {
   "cell_type": "code",
   "execution_count": 5,
   "metadata": {},
   "outputs": [],
   "source": [
    "cluster = isoCluster.compute();"
   ]
  },
  {
   "cell_type": "code",
   "execution_count": 6,
   "metadata": {},
   "outputs": [
    {
     "name": "stdout",
     "output_type": "stream",
     "text": [
      "(1868.8641445023466, 1.0)\n",
      "(1869.8670396649256, 1.0284629996567658)\n",
      "(1870.8690744813305, 0.6202842363873188)\n",
      "(1871.870851837854, 0.2749729842501806)\n",
      "(1872.8725699782512, 0.09791050252434867)\n",
      "(1873.8743108631993, 0.029347219823875576)\n",
      "(1874.8760986851823, 0.007614367308515517)\n",
      "(1875.877887862072, 0.001727502946622263)\n",
      "(1876.8796038147668, 0.0003377750612108765)\n",
      "(1877.880933513439, 5.461005615726584e-05)\n",
      "(1878.8812528998208, 5.837948290047022e-06)\n",
      "(1879.8836882210855, 4.2096299661815474e-07)\n"
     ]
    }
   ],
   "source": [
    "for i in cluster:\n",
    "    print (i)"
   ]
  },
  {
   "cell_type": "code",
   "execution_count": null,
   "metadata": {},
   "outputs": [],
   "source": []
  }
 ],
 "metadata": {
  "kernelspec": {
   "display_name": "Python 3 (ipykernel)",
   "language": "python",
   "name": "python3"
  },
  "language_info": {
   "codemirror_mode": {
    "name": "ipython",
    "version": 3
   },
   "file_extension": ".py",
   "mimetype": "text/x-python",
   "name": "python",
   "nbconvert_exporter": "python",
   "pygments_lexer": "ipython3",
   "version": "3.11.7"
  }
 },
 "nbformat": 4,
 "nbformat_minor": 4
}
