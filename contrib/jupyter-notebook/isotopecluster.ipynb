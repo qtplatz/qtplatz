{
 "cells": [
  {
   "cell_type": "code",
   "execution_count": 1,
   "metadata": {},
   "outputs": [],
   "source": [
    "from qtplatz import adControls\n",
    "import pprint\n",
    "isoCluster = adControls.IsotopeCluster('CH2Cl [H]+')\n",
    "isoCluster.setResolvingPower( 10000 )"
   ]
  },
  {
   "cell_type": "code",
   "execution_count": 2,
   "metadata": {},
   "outputs": [
    {
     "name": "stdout",
     "output_type": "stream",
     "text": [
      "CH2Cl [H]+\n",
      "1\n"
     ]
    }
   ],
   "source": [
    "print( isoCluster.formula() )\n",
    "print( isoCluster.charge() )"
   ]
  },
  {
   "cell_type": "code",
   "execution_count": 3,
   "metadata": {},
   "outputs": [],
   "source": [
    "cluster = isoCluster.compute();"
   ]
  },
  {
   "cell_type": "code",
   "execution_count": 4,
   "metadata": {},
   "outputs": [
    {
     "name": "stdout",
     "output_type": "stream",
     "text": [
      "(49.99177919630058, 1.0)\n",
      "(50.99513403410057, 0.010815728292732234)\n",
      "(50.998055942030575, 0.00034503967956314973)\n",
      "(51.98882910630058, 0.31960939561889673)\n",
      "(52.00141077983058, 3.731855424366423e-06)\n",
      "(52.00433268776058, 2.6456084549564683e-08)\n",
      "(52.99218394410058, 0.003456808382818352)\n",
      "(52.995105852030576, 0.00011027792344971611)\n",
      "(53.99846068983059, 1.192736056718854e-06)\n"
     ]
    }
   ],
   "source": [
    "for i in cluster:\n",
    "    print (i)"
   ]
  },
  {
   "cell_type": "code",
   "execution_count": null,
   "metadata": {},
   "outputs": [],
   "source": []
  }
 ],
 "metadata": {
  "kernelspec": {
   "display_name": "Python 3",
   "language": "python",
   "name": "python3"
  },
  "language_info": {
   "codemirror_mode": {
    "name": "ipython",
    "version": 3
   },
   "file_extension": ".py",
   "mimetype": "text/x-python",
   "name": "python",
   "nbconvert_exporter": "python",
   "pygments_lexer": "ipython3",
   "version": "3.7.3"
  }
 },
 "nbformat": 4,
 "nbformat_minor": 4
}
