{
 "cells": [
  {
   "cell_type": "code",
   "execution_count": 1,
   "metadata": {},
   "outputs": [],
   "source": [
    "from qtplatz import adControls\n",
    "import pprint"
   ]
  },
  {
   "cell_type": "code",
   "execution_count": 2,
   "metadata": {},
   "outputs": [],
   "source": [
    "isoCluster = adControls.IsotopeCluster('C85H121N21O25S [H]+')"
   ]
  },
  {
   "cell_type": "code",
   "execution_count": 3,
   "metadata": {},
   "outputs": [],
   "source": [
    "isoCluster.setResolvingPower( 10000 )"
   ]
  },
  {
   "cell_type": "code",
   "execution_count": 4,
   "metadata": {},
   "outputs": [
    {
     "name": "stdout",
     "output_type": "stream",
     "text": [
      "C85H121N21O25S [H]+ charge= 1 R.P.= 10000.0\n"
     ]
    }
   ],
   "source": [
    "print( isoCluster.formula(), \"charge=\", isoCluster.charge(), \"R.P.=\", isoCluster.resolvingPower() )"
   ]
  },
  {
   "cell_type": "code",
   "execution_count": 5,
   "metadata": {},
   "outputs": [],
   "source": [
    "cluster = isoCluster.compute();"
   ]
  },
  {
   "cell_type": "code",
   "execution_count": 6,
   "metadata": {},
   "outputs": [
    {
     "name": "stdout",
     "output_type": "stream",
     "text": [
      "(1868.863595922437, 1.0)\n",
      "(1869.8696446328565, 1.0284629996567662)\n",
      "(1870.8739012455103, 0.6202844612640378)\n",
      "(1871.8777780962196, 0.2749801496990038)\n",
      "(1872.8813037206687, 0.09792613042414564)\n",
      "(1873.884873410708, 0.029374703482202676)\n",
      "(1874.8886996012411, 0.007646048620614238)\n",
      "(1875.891811317882, 0.001762315410757821)\n",
      "(1876.896091787893, 0.0003608635589284617)\n",
      "(1877.898310803555, 6.651249326423403e-05)\n",
      "(1878.9014393485104, 9.359466058472942e-06)\n",
      "(1879.9005100139889, 1.1175777649069744e-06)\n",
      "(1880.91174299426, 3.7672374892804015e-08)\n"
     ]
    }
   ],
   "source": [
    "for i in cluster:\n",
    "    print (i)"
   ]
  },
  {
   "cell_type": "code",
   "execution_count": null,
   "metadata": {},
   "outputs": [],
   "source": []
  }
 ],
 "metadata": {
  "kernelspec": {
   "display_name": "Python 3",
   "language": "python",
   "name": "python3"
  },
  "language_info": {
   "codemirror_mode": {
    "name": "ipython",
    "version": 3
   },
   "file_extension": ".py",
   "mimetype": "text/x-python",
   "name": "python",
   "nbconvert_exporter": "python",
   "pygments_lexer": "ipython3",
   "version": "3.7.6"
  }
 },
 "nbformat": 4,
 "nbformat_minor": 4
}
