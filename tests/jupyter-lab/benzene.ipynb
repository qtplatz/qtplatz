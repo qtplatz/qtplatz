{
 "cells": [
  {
   "cell_type": "code",
   "execution_count": 1,
   "id": "cf92746c-4a15-4f0e-90bc-40cd183321c4",
   "metadata": {},
   "outputs": [],
   "source": [
    "from rdkit import Chem\n",
    "from rdkit.Chem import Draw\n",
    "import pubchempy as pcp\n",
    "import sqlite3\n",
    "import sys\n",
    "#from rdkit.Chem.Draw import IPythonConsole\n",
    "#sys.path.append('/usr/local/lib/python3.9/site-packages/')"
   ]
  },
  {
   "cell_type": "code",
   "execution_count": 2,
   "id": "90acfb72-5580-4131-adc2-505fd563cdcb",
   "metadata": {},
   "outputs": [
    {
     "data": {
      "image/png": "[encoded data removed]",
      "text/plain": [
       "<rdkit.Chem.rdchem.Mol at 0x117158890>"
      ]
     },
     "execution_count": 2,
     "metadata": {},
     "output_type": "execute_result"
    }
   ],
   "source": [
    "benzene = Chem.MolFromSmiles('C1=CC=CC=C1')\n",
    "benzene"
   ]
  },
  {
   "cell_type": "code",
   "execution_count": null,
   "id": "65149f40-1031-4664-af7e-6c10384497e1",
   "metadata": {},
   "outputs": [],
   "source": [
    "tmp = pcp.get_compounds('XSRLEFWNCQOETJ-SULJWLEGSA-N', 'inchikey')[0]\n",
    "m297 = Chem.MolFromSmiles(tmp.isomeric_smiles)\n",
    "m297"
   ]
  },
  {
   "cell_type": "code",
   "execution_count": null,
   "id": "c67b67a5-bded-4519-bf67-92183770f726",
   "metadata": {},
   "outputs": [],
   "source": [
    "con = sqlite3.connect( '/Users/toshi/.config/QtPlatz/lipidid/lipids.db' )"
   ]
  },
  {
   "cell_type": "code",
   "execution_count": null,
   "id": "3097bab3-6788-4a58-9f4d-0698507d8293",
   "metadata": {},
   "outputs": [],
   "source": [
    "cur = con.cursor()"
   ]
  },
  {
   "cell_type": "code",
   "execution_count": null,
   "id": "5e1d4588-e283-4296-91cd-82e3ef528994",
   "metadata": {},
   "outputs": [],
   "source": [
    "for row in cur.execute( \"SELECT smiles FROM mols WHERE InChIkey like 'XSRLEFWNCQOETJ-SULJWLEGSA-N'\" ):\n",
    "    print (row[0])\n",
    "    m297db = Chem.MolFromSmiles( row[0] )"
   ]
  },
  {
   "cell_type": "code",
   "execution_count": null,
   "id": "9a530e03-7126-4e82-b544-a614fda6deea",
   "metadata": {},
   "outputs": [],
   "source": [
    "m297db"
   ]
  },
  {
   "cell_type": "code",
   "execution_count": null,
   "id": "26b39c50-eeea-4b26-9ea8-1af3c3d5cdc9",
   "metadata": {},
   "outputs": [],
   "source": [
    "\n",
    "tmp = pcp.get_compounds('Testosterone', 'name')[0]\n",
    "mol = Chem.MolFromSmiles(tmp.isomeric_smiles)\n",
    "mol"
   ]
  },
  {
   "cell_type": "code",
   "execution_count": null,
   "id": "e5910ebc-152c-4cc1-8a95-ce0cd5e59908",
   "metadata": {},
   "outputs": [],
   "source": []
  }
 ],
 "metadata": {
  "kernelspec": {
   "display_name": "Python 3 (ipykernel)",
   "language": "python",
   "name": "python3"
  },
  "language_info": {
   "codemirror_mode": {
    "name": "ipython",
    "version": 3
   },
   "file_extension": ".py",
   "mimetype": "text/x-python",
   "name": "python",
   "nbconvert_exporter": "python",
   "pygments_lexer": "ipython3",
   "version": "3.9.10"
  }
 },
 "nbformat": 4,
 "nbformat_minor": 5
}
